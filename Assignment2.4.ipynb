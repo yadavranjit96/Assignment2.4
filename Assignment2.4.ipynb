{
 "cells": [
  {
   "cell_type": "code",
   "execution_count": 1,
   "metadata": {},
   "outputs": [
    {
     "name": "stdout",
     "output_type": "stream",
     "text": [
      "enter the length of first side2\n",
      "enter the length of second side3\n",
      "enter the length of third side4\n",
      "2.9047375096555625\n"
     ]
    }
   ],
   "source": [
    "class triangle:\n",
    "    def parameters(self):\n",
    "        a=int(input('enter the length of first side'))\n",
    "        b=int(input('enter the length of second side'))\n",
    "        c=int(input('enter the length of third side'))\n",
    "        self.a=a\n",
    "        self.b=b\n",
    "        self.c=c\n",
    "class area(triangle):\n",
    "    def calc_area(self):\n",
    "        s=0\n",
    "        area=0\n",
    "        s=(self.a+self.b+self.c)*0.5\n",
    "        area=((s*(s-self.a)*(s-self.b)*(s-self.c)) ** 0.5)\n",
    "        return area\n",
    "out=area()\n",
    "out.parameters()\n",
    "print(out.calc_area())"
   ]
  },
  {
   "cell_type": "code",
   "execution_count": 2,
   "metadata": {},
   "outputs": [
    {
     "name": "stdout",
     "output_type": "stream",
     "text": [
      "Enter words:India,China,England,New Zealand,Australia,Germany\n",
      "Enter Min Length:7\n",
      "Words with at least min length: ['England', 'New Zealand', 'Australia', 'Germany']\n"
     ]
    }
   ],
   "source": [
    "def filter_long_words(l,a):\n",
    "    words=[]\n",
    "    for j in l:\n",
    "        if(len(j)>=a):\n",
    "            words.append(j)\n",
    "    return words\n",
    "\n",
    "n=input(\"Enter words:\")\n",
    "nt=n.split(\",\")\n",
    "na=input(\"Enter Min Length:\")\n",
    "long=filter_long_words(nt,int(na))\n",
    "\n",
    "print(\"Words with at least min length:\",long)"
   ]
  }
 ],
 "metadata": {
  "kernelspec": {
   "display_name": "Python 3",
   "language": "python",
   "name": "python3"
  },
  "language_info": {
   "codemirror_mode": {
    "name": "ipython",
    "version": 3
   },
   "file_extension": ".py",
   "mimetype": "text/x-python",
   "name": "python",
   "nbconvert_exporter": "python",
   "pygments_lexer": "ipython3",
   "version": "3.6.4"
  }
 },
 "nbformat": 4,
 "nbformat_minor": 2
}
